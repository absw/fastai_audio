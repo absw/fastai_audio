{
 "cells": [
  {
   "cell_type": "code",
   "execution_count": null,
   "metadata": {
    "ExecuteTime": {
     "end_time": "2020-04-14T23:15:01.264155Z",
     "start_time": "2020-04-14T23:15:00.706133Z"
    }
   },
   "outputs": [],
   "source": [
    "%reload_ext autoreload\n",
    "%autoreload 2\n",
    "%matplotlib inline"
   ]
  },
  {
   "cell_type": "code",
   "execution_count": null,
   "metadata": {
    "ExecuteTime": {
     "end_time": "2020-04-14T23:15:05.540661Z",
     "start_time": "2020-04-14T23:15:01.967501Z"
    }
   },
   "outputs": [],
   "source": [
    "import sys\n",
    "sys.path.append('..')\n",
    "from fastai.vision import *\n",
    "from audio import *\n",
    "import matplotlib.pyplot as plt\n",
    "import math"
   ]
  },
  {
   "cell_type": "code",
   "execution_count": null,
   "metadata": {
    "ExecuteTime": {
     "end_time": "2020-04-14T23:16:23.908850Z",
     "start_time": "2020-04-14T23:16:23.690987Z"
    }
   },
   "outputs": [],
   "source": [
    "data_url = 'http://www.openslr.org/resources/45/ST-AEDS-20180100_1-OS'\n",
    "data_folder = datapath4file(url2name(data_url))\n",
    "audios = AudioList.from_folder(data_folder)\n",
    "\n",
    "config = AudioConfig()\n",
    "config\n",
    "\n",
    "config.duration = 4000\n",
    "\n",
    "@torch.jit.script\n",
    "@torch.no_grad()\n",
    "def spec_augment(sgs:Tensor, size:int=20):\n",
    "    bsg = sgs\n",
    "    device = sgs.device\n",
    "    bs, _, x, y = bsg.shape\n",
    "    max_y = y-size-1\n",
    "    rsize = torch.tensor(x*bs)\n",
    "    m = torch.arange(y,device=device).repeat(rsize).view(bs, -1)\n",
    "    rs = torch.randint(0, max_y,(bs,1), device=device)\n",
    "    gpumask = ((m < rs) | (m > (rs+size))).view(bs, 1, x, -1)\n",
    "    return bsg*gpumask\n",
    "\n",
    "def newiter(self):\n",
    "    for b in self.dl:\n",
    "        b[0] = spec_augment(b[0])\n",
    "        b[0] = spec_augment(b[0].transpose(2,3)).transpose(2,3)\n",
    "        yield self.proc_batch(b)\n",
    "\n",
    "DeviceDataLoader.__iter__ = newiter"
   ]
  },
  {
   "cell_type": "code",
   "execution_count": null,
   "metadata": {
    "ExecuteTime": {
     "end_time": "2020-04-14T23:16:35.004525Z",
     "start_time": "2020-04-14T23:16:27.444902Z"
    }
   },
   "outputs": [],
   "source": [
    "label_pattern = r'_([mf]\\d+)_'\n",
    "audios = AudioList.from_folder(data_folder, config=config).split_by_rand_pct(.2, seed=4).label_from_re(label_pattern)\n",
    "\n",
    "tfms = get_spectro_transforms(mask_time=False, mask_frequency=False, roll=False, num_rows=5)\n",
    "db = audios.transform(tfms).databunch(bs=64)\n",
    "item = audios.train[0][0].spectro[None]\n",
    "item = spec_augment(item)\n",
    "item = spec_augment(item.transpose(2,3)).transpose(2,3)\n",
    "plt.imshow(item[0][0])"
   ]
  },
  {
   "cell_type": "code",
   "execution_count": null,
   "metadata": {},
   "outputs": [],
   "source": [
    "learn = audio_learner(db)\n",
    "learn.lr_find()\n",
    "learn.recorder.plot()"
   ]
  },
  {
   "cell_type": "code",
   "execution_count": null,
   "metadata": {},
   "outputs": [],
   "source": [
    "learn.fit_one_cycle(5, slice(2e-3, 2e-2))"
   ]
  },
  {
   "cell_type": "code",
   "execution_count": null,
   "metadata": {},
   "outputs": [],
   "source": [
    "interp = ClassificationInterpretation.from_learner(learn)\n",
    "interp.plot_confusion_matrix()"
   ]
  },
  {
   "cell_type": "code",
   "execution_count": null,
   "metadata": {},
   "outputs": [],
   "source": []
  }
 ],
 "metadata": {
  "file_extension": ".py",
  "kernelspec": {
   "display_name": "Python 3.6.10 64-bit ('fastai_audio': conda)",
   "language": "python",
   "name": "python361064bitfastaiaudioconda1466ae939f2a4cd09767a83e6acba37c"
  },
  "language_info": {
   "codemirror_mode": {
    "name": "ipython",
    "version": 3
   },
   "file_extension": ".py",
   "mimetype": "text/x-python",
   "name": "python",
   "nbconvert_exporter": "python",
   "pygments_lexer": "ipython3",
   "version": "3.6.10-final"
  },
  "mimetype": "text/x-python",
  "name": "python",
  "npconvert_exporter": "python",
  "pygments_lexer": "ipython3",
  "toc": {
   "base_numbering": 1,
   "nav_menu": {},
   "number_sections": true,
   "sideBar": true,
   "skip_h1_title": false,
   "title_cell": "Table of Contents",
   "title_sidebar": "Contents",
   "toc_cell": false,
   "toc_position": {},
   "toc_section_display": true,
   "toc_window_display": false
  },
  "version": 3
 },
 "nbformat": 4,
 "nbformat_minor": 2
}